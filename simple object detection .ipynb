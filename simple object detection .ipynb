{
 "cells": [
  {
   "cell_type": "code",
   "execution_count": 1,
   "id": "e7cca4b1",
   "metadata": {},
   "outputs": [],
   "source": [
    "import cv2 as cv\n",
    "import numpy as np"
   ]
  },
  {
   "cell_type": "code",
   "execution_count": 2,
   "id": "5bcb9da8",
   "metadata": {},
   "outputs": [],
   "source": [
    "# Opencv DNN\n",
    "net = cv.dnn.readNet(\"dnn_model/yolov4-tiny.weights\", 'dnn_model/yolov4-tiny.cfg')\n",
    "model = cv.dnn_DetectionModel(net)\n",
    "model.setInputParams(size=(320,320), scale=1/255)\n",
    "\n",
    "# Load class list\n",
    "classes = []\n",
    "with open('dnn_model/classes.txt', 'r') as file_object:\n",
    "    for class_name in file_object.readlines():\n",
    "        class_name = class_name.strip()\n",
    "        classes.append(class_name)\n",
    "        "
   ]
  },
  {
   "cell_type": "code",
   "execution_count": 5,
   "id": "fa9582c1",
   "metadata": {},
   "outputs": [],
   "source": [
    "# Initialize the camera\n",
    "cap = cv.VideoCapture(0)\n",
    "cap.set(cv.CAP_PROP_FRAME_WIDTH, 1280)\n",
    "cap.set(cv.CAP_PROP_FRAME_HEIGHT, 720)\n",
    "# Full HD 1920 x 1080\n",
    "\n",
    "button_person = False\n",
    "\n",
    "def click_button(event, x, y, flags, params):\n",
    "    \n",
    "    global button_person\n",
    "    \n",
    "    if event == cv.EVENT_LBUTTONDOWN:\n",
    "        polygon = np.array([[(20, 20), (210, 20), (210, 70), (20, 70)]])\n",
    "        \n",
    "        is_inside = cv.pointPolygonTest(polygon, (x, y), False)\n",
    "        if is_inside > 0:\n",
    "            if button_person is False:\n",
    "                button_person = True\n",
    "            else:\n",
    "                button_person = False\n",
    "\n",
    "\n",
    "# Create window\n",
    "cv.namedWindow('Frame')\n",
    "cv.setMouseCallback('Frame', click_button)\n",
    "\n",
    "\n",
    "while True:\n",
    "    #Get frame\n",
    "    ret, frame = cap.read()\n",
    "\n",
    "    # Object Detection\n",
    "    (class_ids, scores, bboxes)  = model.detect(frame)\n",
    "    for class_id, score, bbox in zip(class_ids, scores, bboxes):\n",
    "        (x, y, w, h) = bbox\n",
    "        \n",
    "        if  classes[class_id] == 'person' and button_person is True:\n",
    "            cv.putText(frame, classes[class_id], (x, y-10), cv.FONT_HERSHEY_PLAIN, 2, (253, 144, 100), 3)\n",
    "            cv.rectangle(frame, (x,y), (x + w, y + h), (233, 174, 90), thickness = 2)\n",
    "    \n",
    "    # Create button\n",
    "    polygon = np.array([[(20, 20), (210, 20), (210, 70), (20, 70)]]) \n",
    "    cv.fillPoly(frame, polygon, (0, 0, 200))\n",
    "    cv.putText(frame, 'Person', (30, 60), cv.FONT_HERSHEY_PLAIN, 3, (255, 255, 255), 3)\n",
    "    \n",
    "    \n",
    "    cv.imshow('Frame', frame)\n",
    "    if cv.waitKey(1) & 0xFF==ord('d'):\n",
    "        break\n",
    "        \n",
    "cap.release()\n",
    "cv.destroyAllWindows()"
   ]
  },
  {
   "cell_type": "code",
   "execution_count": null,
   "id": "166f0b43",
   "metadata": {},
   "outputs": [],
   "source": []
  }
 ],
 "metadata": {
  "kernelspec": {
   "display_name": "Python 3 (ipykernel)",
   "language": "python",
   "name": "python3"
  },
  "language_info": {
   "codemirror_mode": {
    "name": "ipython",
    "version": 3
   },
   "file_extension": ".py",
   "mimetype": "text/x-python",
   "name": "python",
   "nbconvert_exporter": "python",
   "pygments_lexer": "ipython3",
   "version": "3.10.3"
  }
 },
 "nbformat": 4,
 "nbformat_minor": 5
}
